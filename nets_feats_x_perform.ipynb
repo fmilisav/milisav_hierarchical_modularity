{
 "cells": [
  {
   "cell_type": "code",
   "execution_count": 1,
   "id": "ea77500b",
   "metadata": {},
   "outputs": [],
   "source": [
    "import pickle\n",
    "\n",
    "NNETWORKS = 100\n",
    "NLEVELS = 3\n",
    "\n",
    "experiment_path = 'results/SBM/SBM_MC_tanh_nnodes50_p10.5_delta_p0.5_min_weight0_bin_directedTrue_wei_directedFalse/'\n",
    "network_data_path = experiment_path + 'network_data/'\n",
    "\n",
    "results_df = pickle.load(open(experiment_path + 'average_results_df.pickle', 'rb'))\n",
    "#results at criticality\n",
    "results_df = results_df[results_df.alpha == 1].copy(deep=True)\n",
    "\n",
    "timescales_df = pickle.load(open(experiment_path + 'timescales_df_inputFalse.pickle', 'rb'))\n",
    "\n",
    "cc_df = pickle.load(open(network_data_path + 'cc_df.pickle', 'rb'))\n",
    "cc_df['seed'] = [seed for level in cc_df['level'].unique() for seed in range(len(cc_df[cc_df['level'] == level]))]\n",
    "\n",
    "freq_func_motif_df = pickle.load(open(network_data_path + 'freq_func_motif_df.pickle', 'rb'))\n",
    "reordered_motif_dict = {}\n",
    "for motif in range(1, 14):\n",
    "    reordered_motif_dict[motif] = []\n",
    "    for network in range(NNETWORKS):\n",
    "        for level in range(NLEVELS):\n",
    "            reordered_motif_dict[motif].append(freq_func_motif_df[freq_func_motif_df['motif'] == motif].F.values[network + level * NNETWORKS])\n",
    "            \n",
    "ncycles_df = pickle.load(open(network_data_path + 'ncycles_df.pickle', 'rb'))\n",
    "reordered_ncycles_dict = {}\n",
    "for cycle_len in range(3, 6):\n",
    "    reordered_ncycles_dict[cycle_len] = []\n",
    "    for network in range(NNETWORKS):\n",
    "        for level in range(NLEVELS):\n",
    "            reordered_ncycles_dict[cycle_len].append(ncycles_df[ncycles_df['cycle_len'] == cycle_len].n_cycles.values[network + level * NNETWORKS])"
   ]
  },
  {
   "cell_type": "code",
   "execution_count": 2,
   "id": "50b4af8c",
   "metadata": {},
   "outputs": [],
   "source": [
    "#Ensure all dataframes are sorted the same way\n",
    "results_df = results_df.sort_values(['seed', 'level'])\n",
    "timescales_df = timescales_df.sort_values(['seed', 'level'])\n",
    "cc_df = cc_df.sort_values(['seed', 'level'])\n",
    "\n",
    "#Merge the dataframes\n",
    "results_df['timescale'] = timescales_df['timescale'].values\n",
    "results_df['cc'] = cc_df['cc'].values\n",
    "for motif in range(1, 14):\n",
    "    results_df['motif_' + str(motif)] = reordered_motif_dict[motif]\n",
    "for cycle_len in range(3, 6):\n",
    "    results_df['ncycles_' + str(cycle_len)] = reordered_ncycles_dict[cycle_len]"
   ]
  },
  {
   "cell_type": "code",
   "execution_count": 3,
   "id": "83c7921a",
   "metadata": {},
   "outputs": [],
   "source": [
    "import seaborn as sns\n",
    "import matplotlib.pyplot as plt\n",
    "from matplotlib import cm\n",
    "\n",
    "from score_plotting_utils import create_fig_path\n",
    "\n",
    "sns.set_style(\"ticks\")\n",
    "sns.set(context=None, style=None, palette=None, font_scale=5, color_codes=None)\n",
    "plt.rcParams['svg.fonttype'] = 'none'\n",
    "plt.rcParams.update({'font.size': 15})\n",
    "plt.rcParams['legend.fontsize'] = 15\n",
    "\n",
    "PuBu = cm.get_cmap('PuBu')\n",
    "GnBu = cm.get_cmap('GnBu')\n",
    "PuRd = cm.get_cmap('PuRd')\n",
    "palette = [PuBu(0.6), GnBu(0.6), PuRd(0.6)]"
   ]
  },
  {
   "cell_type": "code",
   "execution_count": 4,
   "id": "cd60bdac",
   "metadata": {},
   "outputs": [
    {
     "name": "stdout",
     "output_type": "stream",
     "text": [
      "Spearman's rho: 0.52, p-value: 3.81e-22\n"
     ]
    }
   ],
   "source": [
    "#TIMESCALE VARIABILITY\n",
    "\n",
    "from scipy.stats import spearmanr\n",
    "\n",
    "import os\n",
    "fig_path = create_fig_path(experiment_path)\n",
    "\n",
    "ax = sns.regplot(data=results_df, x='timescale', y='score', color='grey', scatter=False)\n",
    "sns.scatterplot(data=results_df, x='timescale', y='score', hue='level', palette=palette, legend=False, ax=ax)\n",
    "\n",
    "spearman = spearmanr(results_df['timescale'], results_df['score'])\n",
    "print(f'Spearman\\'s rho: {spearman.correlation:.2f}, p-value: {spearman.pvalue:.2e}')\n",
    "\n",
    "ax.text(0.35, 0.1, \"Spearman\\'s rho: {:.2f}\".format(spearman.correlation), ha='center', va='center', transform=ax.transAxes)\n",
    "ax.set_box_aspect(1)\n",
    "\n",
    "ax.set_xlabel('Timescale variability')\n",
    "ax.set_ylabel('Memory capacity')\n",
    "\n",
    "fig = ax.get_figure()\n",
    "fig.savefig(os.path.join(fig_path, 'timescale_var_x_MC.png'), dpi=300, bbox_inches='tight')\n",
    "fig.savefig(os.path.join(fig_path, 'timescale_var_x_MC.svg'), dpi=300, bbox_inches='tight')\n",
    "plt.close(fig)"
   ]
  },
  {
   "cell_type": "code",
   "execution_count": 5,
   "id": "b2dc43e9",
   "metadata": {},
   "outputs": [
    {
     "name": "stdout",
     "output_type": "stream",
     "text": [
      "Spearman's rho: 0.68, p-value: 1.27e-41\n"
     ]
    }
   ],
   "source": [
    "#CLUSTERING COEFFICIENT\n",
    "\n",
    "ax = sns.regplot(data=results_df, x='cc', y='score', color='grey', scatter=False)\n",
    "sns.scatterplot(data=results_df, x='cc', y='score', hue='level', palette=palette, legend=False, ax=ax)\n",
    "\n",
    "spearman = spearmanr(results_df['cc'], results_df['score'])\n",
    "print(f'Spearman\\'s rho: {spearman.correlation:.2f}, p-value: {spearman.pvalue:.2e}')\n",
    "\n",
    "ax.text(0.35, 0.1, \"Spearman\\'s rho: {:.2f}\".format(spearman.correlation), ha='center', va='center', transform=ax.transAxes)\n",
    "ax.set_box_aspect(1)\n",
    "\n",
    "ax.set_xlabel('Clustering coefficient')\n",
    "ax.set_ylabel('Memory capacity')\n",
    "\n",
    "fig = ax.get_figure()\n",
    "fig.savefig(os.path.join(fig_path, 'cc_x_MC.png'), dpi=300, bbox_inches='tight')\n",
    "fig.savefig(os.path.join(fig_path, 'cc_x_MC.svg'), dpi=300, bbox_inches='tight')\n",
    "plt.close(fig)"
   ]
  },
  {
   "cell_type": "code",
   "execution_count": 6,
   "id": "1de9cd92",
   "metadata": {},
   "outputs": [
    {
     "name": "stdout",
     "output_type": "stream",
     "text": [
      "Motif 1\n",
      "Spearman's rho: -0.67, p-value: 6.43e-40\n",
      "Motif 2\n",
      "Spearman's rho: -0.66, p-value: 2.31e-38\n",
      "Motif 3\n",
      "Spearman's rho: -0.61, p-value: 1.85e-32\n",
      "Motif 4\n",
      "Spearman's rho: 0.61, p-value: 1.83e-31\n",
      "Motif 5\n",
      "Spearman's rho: 0.68, p-value: 2.30e-42\n",
      "Motif 6\n",
      "Spearman's rho: 0.63, p-value: 5.56e-34\n",
      "Motif 7\n",
      "Spearman's rho: 0.68, p-value: 2.92e-42\n",
      "Motif 8\n",
      "Spearman's rho: 0.67, p-value: 1.59e-40\n",
      "Motif 9\n",
      "Spearman's rho: 0.62, p-value: 8.43e-34\n",
      "Motif 10\n",
      "Spearman's rho: 0.67, p-value: 5.89e-40\n",
      "Motif 11\n",
      "Spearman's rho: 0.65, p-value: 3.96e-38\n",
      "Motif 12\n",
      "Spearman's rho: 0.65, p-value: 1.43e-37\n",
      "Motif 13\n",
      "Spearman's rho: 0.48, p-value: 7.83e-19\n"
     ]
    }
   ],
   "source": [
    "#MOTIFS\n",
    "\n",
    "#motif 1-3 grid\n",
    "fig, axs = plt.subplots(1, 3, figsize=(15, 5))\n",
    "for i in range(3):\n",
    "\n",
    "    print('Motif ' + str(i + 1))\n",
    "\n",
    "    sns.regplot(data=results_df, x='motif_' + str(i + 1), y='score', color='grey', scatter=False, ax=axs[i])\n",
    "    sns.scatterplot(data=results_df, x='motif_' + str(i + 1), y='score', hue='level', palette=palette, legend=False, ax=axs[i])\n",
    "\n",
    "    spearman = spearmanr(results_df['motif_' + str(i + 1)], results_df['score'])\n",
    "    print(f'Spearman\\'s rho: {spearman.correlation:.2f}, p-value: {spearman.pvalue:.2e}')\n",
    "\n",
    "    axs[i].text(0.35, 0.1, \"Spearman\\'s rho: {:.2f}\".format(spearman.correlation), ha='center', va='center', transform=axs[i].transAxes)\n",
    "    axs[i].set_box_aspect(1)\n",
    "    axs[i].set_xlabel('Motif ' + str(i + 1))\n",
    "    axs[i].set_ylabel('Memory capacity')\n",
    "\n",
    "fig.savefig(os.path.join(fig_path, 'motifs123_x_MC.png'), dpi=300, bbox_inches='tight')\n",
    "fig.savefig(os.path.join(fig_path, 'motifs123_x_MC.svg'), dpi=300, bbox_inches='tight')\n",
    "plt.close(fig)\n",
    "\n",
    "#remaining motifs\n",
    "fig, axs = plt.subplots(2, 5, figsize=(25, 10))\n",
    "for i in range(10):\n",
    "\n",
    "    print('Motif ' + str(i + 4))\n",
    "\n",
    "    sns.regplot(data=results_df, x='motif_' + str(i + 4), y='score', color='grey', scatter=False, ax=axs[i // 5, i % 5])\n",
    "    sns.scatterplot(data=results_df, x='motif_' + str(i + 4), y='score', hue='level', palette=palette, legend=False, ax=axs[i // 5, i % 5])\n",
    "\n",
    "    spearman = spearmanr(results_df['motif_' + str(i + 4)], results_df['score'])\n",
    "    print(f'Spearman\\'s rho: {spearman.correlation:.2f}, p-value: {spearman.pvalue:.2e}')\n",
    "\n",
    "    axs[i // 5, i % 5].text(0.35, 0.1, \"Spearman\\'s rho: {:.2f}\".format(spearman.correlation), ha='center', va='center', transform=axs[i // 5, i % 5].transAxes)\n",
    "    axs[i // 5, i % 5].set_box_aspect(1)\n",
    "    axs[i // 5, i % 5].set_xlabel('Motif ' + str(i + 4))\n",
    "    axs[i // 5, i % 5].set_ylabel('Memory capacity')\n",
    "\n",
    "fig.savefig(os.path.join(fig_path, 'motifs_x_MC.png'), dpi=300, bbox_inches='tight')\n",
    "fig.savefig(os.path.join(fig_path, 'motifs_x_MC.svg'), dpi=300, bbox_inches='tight')\n",
    "plt.close(fig)"
   ]
  },
  {
   "cell_type": "code",
   "execution_count": 7,
   "id": "b0d1b213",
   "metadata": {},
   "outputs": [
    {
     "name": "stdout",
     "output_type": "stream",
     "text": [
      "Cycle length: 1\n",
      "Spearman's rho: 0.66, p-value: 4.37e-39\n",
      "Cycle length: 2\n",
      "Spearman's rho: 0.56, p-value: 8.59e-26\n",
      "Cycle length: 3\n",
      "Spearman's rho: 0.05, p-value: 3.61e-01\n"
     ]
    }
   ],
   "source": [
    "#CYCLES\n",
    "\n",
    "fig, axs = plt.subplots(1, 3, figsize=(15, 5))\n",
    "for i in range(3):\n",
    "\n",
    "    print('Cycle length: ' + str(i + 1))\n",
    "\n",
    "    sns.regplot(data=results_df, x='ncycles_' + str(i + 3), y='score', color='grey', scatter=False, ax=axs[i])\n",
    "    sns.scatterplot(data=results_df, x='ncycles_' + str(i + 3), y='score', hue='level', palette=palette, legend=False, ax=axs[i])\n",
    "\n",
    "    spearman = spearmanr(results_df['ncycles_' + str(i + 3)], results_df['score'])\n",
    "    print(f'Spearman\\'s rho: {spearman.correlation:.2f}, p-value: {spearman.pvalue:.2e}')\n",
    "\n",
    "    axs[i].text(0.35, 0.1, \"Spearman\\'s rho: {:.2f}\".format(spearman.correlation), ha='center', va='center', transform=axs[i].transAxes)\n",
    "    axs[i].set_box_aspect(1)\n",
    "    axs[i].set_xlabel('Cycle length: ' + str(i + 1))\n",
    "    axs[i].set_ylabel('Memory capacity')\n",
    "\n",
    "fig.savefig(os.path.join(fig_path, 'ncycles_x_MC.png'), dpi=300, bbox_inches='tight')\n",
    "fig.savefig(os.path.join(fig_path, 'ncycles_x_MC.svg'), dpi=300, bbox_inches='tight')\n",
    "plt.close(fig)"
   ]
  },
  {
   "cell_type": "code",
   "execution_count": null,
   "id": "f90cfc7d",
   "metadata": {},
   "outputs": [],
   "source": []
  }
 ],
 "metadata": {
  "kernelspec": {
   "display_name": "conn2res_dev_env_neurogym",
   "language": "python",
   "name": "python3"
  },
  "language_info": {
   "codemirror_mode": {
    "name": "ipython",
    "version": 3
   },
   "file_extension": ".py",
   "mimetype": "text/x-python",
   "name": "python",
   "nbconvert_exporter": "python",
   "pygments_lexer": "ipython3",
   "version": "3.9.0"
  }
 },
 "nbformat": 4,
 "nbformat_minor": 5
}
